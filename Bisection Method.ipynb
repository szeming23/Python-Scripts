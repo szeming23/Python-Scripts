{
 "cells": [
  {
   "cell_type": "code",
   "execution_count": 1,
   "metadata": {},
   "outputs": [
    {
     "name": "stdout",
     "output_type": "stream",
     "text": [
      "  stage  interval                                        midpoint    fn(midpoint)\n",
      "-------  --------------------------------------------  ----------  --------------\n",
      "      1  (-6.283185307179586, 0)                         -3.14159        16.92157\n",
      "      2  (-3.141592653589793, 0)                         -1.57080         6.58317\n",
      "      3  (-1.5707963267948966, 0)                        -0.78540         2.31295\n",
      "      4  (-0.7853981633974483, 0)                        -0.39270         0.20558\n",
      "      5  (-0.39269908169872414, 0)                       -0.19635        -0.84724\n",
      "      6  (-0.39269908169872414, -0.19634954084936207)    -0.29452        -0.32084\n",
      "      7  (-0.39269908169872414, -0.2945243112740431)     -0.34361        -0.05764\n",
      "      8  (-0.39269908169872414, -0.3436116964863836)     -0.36816         0.07397\n",
      "      9  (-0.36815538909255385, -0.3436116964863836)     -0.35588         0.00817\n",
      "     10  (-0.35588354278946877, -0.3436116964863836)     -0.34975        -0.02474\n",
      "     11  (-0.35588354278946877, -0.3497476196379262)     -0.35282        -0.00829\n",
      "     12  (-0.35588354278946877, -0.3528155812136975)     -0.35435        -0.00006\n",
      "     13  (-0.35588354278946877, -0.35434956200158313)    -0.35512         0.00405\n",
      "     14  (-0.355116552395526, -0.35434956200158313)      -0.35473         0.00200\n",
      "     15  (-0.3547330571985545, -0.35434956200158313)     -0.35454         0.00097\n",
      "     16  (-0.3545413096000688, -0.35434956200158313)     -0.35445         0.00045\n",
      "     17  (-0.354445435800826, -0.35434956200158313)      -0.35440         0.00020\n",
      "     18  (-0.35439749890120453, -0.35434956200158313)    -0.35437         0.00007\n",
      "     19  (-0.35437353045139386, -0.35434956200158313)    -0.35436         0.00000\n"
     ]
    }
   ],
   "source": [
    "from math import e, pi, sin\n",
    "from tabulate import tabulate\n",
    "\n",
    "def main():\n",
    "    \n",
    "    ######################################################################################\n",
    "    interval = (-2*pi, 0)\n",
    "    epsilon = 10**(-5)\n",
    "    \n",
    "    def fn(w):\n",
    "        return (-32.17 / (2*w**2)) * ((e**w - e**(-w)) / 2 - sin(w)) - 1.9\n",
    "    ######################################################################################\n",
    "    \n",
    "    headers = ['stage', 'interval', 'midpoint', 'fn(midpoint)']\n",
    "    stages = []\n",
    "    intervals = []\n",
    "    midpoints = []\n",
    "    values = []\n",
    "    def bisection(fn, interval, epsilon, stage):\n",
    "        midpoint = (interval[0] + interval[1]) / 2\n",
    "        value = fn(midpoint)\n",
    "        \n",
    "        intervals.append(interval)\n",
    "        stages.append(stage)\n",
    "        midpoints.append(midpoint)\n",
    "        values.append(value)\n",
    "        \n",
    "        if abs(value) < epsilon: # close enough to zero\n",
    "            return midpoint\n",
    "        else:\n",
    "            '''\n",
    "            if fn(midpoint) < 0, set new ceiling\n",
    "            if fn(midpoint) > 0, set new floor\n",
    "            '''\n",
    "            new_interval = (interval[0], midpoint) if value < 0 else (midpoint, interval[1])\n",
    "            return bisection(fn, new_interval, epsilon, stage+1)\n",
    "\n",
    "    bisection(fn, interval, epsilon, 1)\n",
    "    table = zip(stages, intervals, midpoints, values)\n",
    "    print(tabulate(table, headers=headers, floatfmt=\".5f\"))\n",
    "    \n",
    "main()"
   ]
  },
  {
   "cell_type": "code",
   "execution_count": 2,
   "metadata": {},
   "outputs": [],
   "source": [
    "# from tabulate import tabulate\n",
    "# headers = ['planet', 'amp', 'mass', 'period', 'ecc']    \n",
    "\n",
    "# amp = [1.1, 1.2, 1.3, 1.4]\n",
    "# mass = [2.1, 2.2, 2.3, 2.4]\n",
    "# period = [3.1, 3.2, 3.3, 3.4]\n",
    "# ecc = [4.1, 4.2, 4.3, 4.4]\n",
    "# planet = range(1, len(amp)+1)\n",
    "\n",
    "# table = zip(planet, amp, mass, period, ecc)\n",
    "# print(tabulate(table, headers=headers, floatfmt=\".4f\"))"
   ]
  },
  {
   "cell_type": "code",
   "execution_count": 3,
   "metadata": {},
   "outputs": [
    {
     "data": {
      "text/plain": [
       "0.8518086950738532"
      ]
     },
     "execution_count": 3,
     "metadata": {},
     "output_type": "execute_result"
    }
   ],
   "source": [
    "from math import e\n",
    "\n",
    "((10**10)/362880) * (1.21**9) * e**(-12.1)"
   ]
  }
 ],
 "metadata": {
  "kernelspec": {
   "display_name": "Python 3",
   "language": "python",
   "name": "python3"
  },
  "language_info": {
   "codemirror_mode": {
    "name": "ipython",
    "version": 3
   },
   "file_extension": ".py",
   "mimetype": "text/x-python",
   "name": "python",
   "nbconvert_exporter": "python",
   "pygments_lexer": "ipython3",
   "version": "3.7.1"
  }
 },
 "nbformat": 4,
 "nbformat_minor": 2
}
