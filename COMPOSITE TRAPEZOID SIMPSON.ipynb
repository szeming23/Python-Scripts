{
 "cells": [
  {
   "cell_type": "code",
   "execution_count": 1,
   "metadata": {},
   "outputs": [],
   "source": [
    "from math import sin,cos,tan,log\n",
    "from math import pi,e"
   ]
  },
  {
   "cell_type": "code",
   "execution_count": 2,
   "metadata": {},
   "outputs": [],
   "source": [
    "def Comp_Trapezoid(f, interval, panels):\n",
    "    '''\n",
    "    Inputs:\n",
    "        f: function\n",
    "        interval [a,b]\n",
    "        panels: number of panels\n",
    "    Output:\n",
    "        Approximation for integral of f within interval\n",
    "    '''\n",
    "    m = panels # number of panels\n",
    "    h = (interval[1]-interval[0])/m # length of single interval\n",
    "    \n",
    "    x_i = [interval[0] + h* (i) for i in range(1,m)]\n",
    "    print(\"x_i is : \", str(x_i))\n",
    "    y_i = sum(map(f, x_i))\n",
    "    \n",
    "    y_0 = f(interval[0])\n",
    "    y_m = f(interval[1])\n",
    "    \n",
    "    ans = h/2 * (y_0 + y_m + 2*y_i)\n",
    "    \n",
    "    \n",
    "    return round(ans,6)"
   ]
  },
  {
   "cell_type": "code",
   "execution_count": 3,
   "metadata": {},
   "outputs": [
    {
     "name": "stdout",
     "output_type": "stream",
     "text": [
      "x_i is :  [0.25, 0.5, 0.75]\n"
     ]
    },
    {
     "data": {
      "text/plain": [
       "0.196618"
      ]
     },
     "execution_count": 3,
     "metadata": {},
     "output_type": "execute_result"
    }
   ],
   "source": [
    "### Comp_Trapezoid TEST for f(x) = log(x), using 4 panels on interval [1,2]\n",
    "# g = lambda x: log(x)\n",
    "# Comp_Trapezoid(g, interval = [1,2], panels = 4)\n",
    "\n",
    "\n",
    "f = lambda x: x**2*sin(x**2)\n",
    "\n",
    "Comp_Trapezoid(f, interval = [0,1], panels = 4)"
   ]
  },
  {
   "cell_type": "code",
   "execution_count": 4,
   "metadata": {},
   "outputs": [],
   "source": [
    "def Comp_Simpsons(f, interval, panels):\n",
    "    '''\n",
    "    Inputs:\n",
    "        f: function\n",
    "        interval [a,b]\n",
    "        panels: number of panels\n",
    "    Output:\n",
    "        Approximation for integral of f within interval\n",
    "    '''\n",
    "    m = panels # number of panels\n",
    "    h = (interval[1]-interval[0])/2/m # length of single interval\n",
    "    \n",
    "    x_2i_minus_1 = [interval[0] + h* (2*i-1) for i in range(1,m+1)]\n",
    "    print(\"x_2i_minus_1 is :\", str(x_2i_minus_1))\n",
    "    \n",
    "    x_2i = [interval[0] + h* (2*i) for i in range(1,m)]\n",
    "    print(\"x_2i is : \", str(x_2i))\n",
    "    \n",
    "    y_2i_minus_1 = sum(map(f, x_2i_minus_1))\n",
    "    y_2i = sum(map(f, x_2i))\n",
    "    \n",
    "    y_0 = f(interval[0])\n",
    "    y_2m = f(interval[1])\n",
    "    \n",
    "    ans = h/3 * (y_0 + y_2m + 4*y_2i_minus_1 + 2*y_2i)\n",
    "    return round(ans,6)"
   ]
  },
  {
   "cell_type": "code",
   "execution_count": 5,
   "metadata": {},
   "outputs": [
    {
     "name": "stdout",
     "output_type": "stream",
     "text": [
      "x_2i_minus_1 is : [0.125, 0.375, 0.625, 0.875]\n",
      "x_2i is :  [0.25, 0.5, 0.75]\n"
     ]
    },
    {
     "data": {
      "text/plain": [
       "0.182083"
      ]
     },
     "execution_count": 5,
     "metadata": {},
     "output_type": "execute_result"
    }
   ],
   "source": [
    "# Comp_Simpsons TEST\n",
    "# g = lambda x: log(x)\n",
    "# Comp_Simpsons(g, interval = [1,2], panels = 4)\n",
    "\n",
    "\n",
    "f = lambda x: x**2*sin(x**2)\n",
    "Comp_Simpsons(f, interval = [0,1], panels = 4)"
   ]
  },
  {
   "cell_type": "code",
   "execution_count": 8,
   "metadata": {},
   "outputs": [
    {
     "name": "stdout",
     "output_type": "stream",
     "text": [
      "x_i is :  [0.25, 0.5, 0.75]\n",
      "x_2i_minus_1 is : [0.125, 0.375, 0.625, 0.875]\n",
      "x_2i is :  [0.25, 0.5, 0.75]\n",
      "\n",
      "ans is:  2.717857\n",
      "error of comp_trapezoid:  0.1384050000000001\n",
      "error of comp_simpsons:  0.0005530000000000257\n"
     ]
    }
   ],
   "source": [
    "f = lambda x: 1 + x + x**2 + x**3 + x**4 + x**5 + x**6 + x**7\n",
    "# g = lambda x: 1/3 * x**3 + 17/2*x**2\n",
    "\n",
    "ct = Comp_Trapezoid(f, interval = [0,1], panels = 4)\n",
    "cs = Comp_Simpsons(f, interval = [0,1], panels = 4)\n",
    "\n",
    "\n",
    "ans = round(2.717857142857143,6)\n",
    "print(\"\\nans is: \", ans)\n",
    "\n",
    "print(\"error of comp_trapezoid: \", abs(ct - ans))\n",
    "print(\"error of comp_simpsons: \", abs(cs - ans))"
   ]
  }
 ],
 "metadata": {
  "kernelspec": {
   "display_name": "Python 3",
   "language": "python",
   "name": "python3"
  },
  "language_info": {
   "codemirror_mode": {
    "name": "ipython",
    "version": 3
   },
   "file_extension": ".py",
   "mimetype": "text/x-python",
   "name": "python",
   "nbconvert_exporter": "python",
   "pygments_lexer": "ipython3",
   "version": "3.7.1"
  }
 },
 "nbformat": 4,
 "nbformat_minor": 2
}
