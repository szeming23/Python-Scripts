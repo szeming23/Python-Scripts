{
 "cells": [
  {
   "cell_type": "code",
   "execution_count": 1,
   "metadata": {},
   "outputs": [],
   "source": [
    "from random import randint\n",
    "from math import sin, cos, tan\n",
    "from math import e, pi\n",
    "from tabulate import tabulate\n",
    "\n",
    "def iterate(f, iterations=1000, TOL=2**(-20)):\n",
    "    '''\n",
    "    inputs:\n",
    "        f: function\n",
    "        iterations: maximum number of iterations\n",
    "        TOL: tolerance, precision at which to stop iterating\n",
    "    \n",
    "    output:\n",
    "        x where x == f(x) within tolerance range.\n",
    "    '''\n",
    "    \n",
    "#     1. let x be random number          | x = random\n",
    "#     2. apply function to x             | y = f(x)\n",
    "#     3. apply function to result        | y = f(y)\n",
    "#     4. apply function again to result  | repeat y = f(y)\n",
    "#     5. continue to convergence         | ... until y == f(y) within tolerance (convergence)\n",
    "\n",
    "    x = randint(-3,3)\n",
    "    print(f\"Original x: {x}\")\n",
    "    print(f\"Tolerance: {TOL} \\n\")\n",
    "    \n",
    "    headers = ['stage', 'x', 'f(x)', 'difference']\n",
    "    stages, xs, fxs, differences = [], [], [], []\n",
    "    \n",
    "    for i in range(iterations):\n",
    "        y = f(x)\n",
    "        diff = abs(y-x)\n",
    "        \n",
    "        stages.append(i+1)\n",
    "        xs.append(x)\n",
    "        fxs.append(y)\n",
    "        differences.append(diff)\n",
    "        \n",
    "        x = y\n",
    "        if diff < TOL: # converged\n",
    "            break\n",
    "        \n",
    "    table = zip(stages, xs, fxs, differences)\n",
    "    print(tabulate(table, headers=headers, floatfmt=\".7f\"))"
   ]
  },
  {
   "cell_type": "code",
   "execution_count": 2,
   "metadata": {},
   "outputs": [
    {
     "name": "stdout",
     "output_type": "stream",
     "text": [
      "Original x: 3\n",
      "Tolerance: 1e-06 \n",
      "\n",
      "  stage          x       f(x)    difference\n",
      "-------  ---------  ---------  ------------\n",
      "      1  3.0000000  1.5714286     1.4285714\n",
      "      2  1.5714286  1.8962932     0.3248646\n",
      "      3  1.8962932  1.9880627     0.0917695\n",
      "      4  1.9880627  1.9990864     0.0110237\n",
      "      5  1.9990864  1.9999344     0.0008480\n",
      "      6  1.9999344  1.9999953     0.0000609\n",
      "      7  1.9999953  1.9999997     0.0000044\n",
      "      8  1.9999997  2.0000000     0.0000003\n"
     ]
    }
   ],
   "source": [
    "f = lambda x: cos(x)\n",
    "g = lambda x, c=-14: (x**3 + x - 10 + c*x) / c\n",
    "\n",
    "iterate(g, iterations=1000, TOL=10**(-6))"
   ]
  }
 ],
 "metadata": {
  "kernelspec": {
   "display_name": "Python 3",
   "language": "python",
   "name": "python3"
  },
  "language_info": {
   "codemirror_mode": {
    "name": "ipython",
    "version": 3
   },
   "file_extension": ".py",
   "mimetype": "text/x-python",
   "name": "python",
   "nbconvert_exporter": "python",
   "pygments_lexer": "ipython3",
   "version": "3.7.1"
  }
 },
 "nbformat": 4,
 "nbformat_minor": 2
}
