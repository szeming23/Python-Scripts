{
 "cells": [
  {
   "cell_type": "code",
   "execution_count": 1,
   "metadata": {
    "scrolled": false
   },
   "outputs": [
    {
     "name": "stdout",
     "output_type": "stream",
     "text": [
      "First ten entries to 8 d.p.: \n",
      " [1.54380382 0.73142103 0.10797003 0.17328422 0.04055675 0.08524864\n",
      " 0.16644801 0.1219796  0.10124983 0.09045735] \n",
      "\n",
      "Runtime needed:  0.4338715076446533 seconds\n"
     ]
    }
   ],
   "source": [
    "import numpy as np\n",
    "import time\n",
    "from math import pi\n",
    "\n",
    "n = 20000\n",
    "start_time = time.time()\n",
    "A = np.zeros( (n, n+1) ) # n rows, (n+1) columns\n",
    "for i in range(n):\n",
    "    i1 = i+1          # constant\n",
    "    A[i][n] = pi      # all b = pi\n",
    "    A[i][i] = 2 * i1\n",
    "    if (i + 2) < n:\n",
    "        A[i][i+2] = 0.5 * i1\n",
    "    if (i - 2) >= 0:\n",
    "        A[i][i-2] = 0.5 * i1\n",
    "    if (i + 4) < n:\n",
    "        A[i][i+4] = 0.25 * i1\n",
    "    if (i - 4) >= 0:\n",
    "        A[i][i-4] = 0.25 * i1\n",
    "\n",
    "# CONVERT A TO REF FORMAT\n",
    "for i in range(n-2):\n",
    "    i2, i4 = i+2, i+4\n",
    "    if i4 < n:          # skip when i+4 OOB\n",
    "        # row i+4\n",
    "        A[i4][i2] -= A[i4][i] / A[i][i] * A[i][i2]   # col i+2\n",
    "        A[i4][i4] -= A[i4][i] / A[i][i] * A[i][i4]   # col i+4\n",
    "        A[i4][n] -= A[i4][i] / A[i][i] * A[i][n]     # X\n",
    "        A[i4][i] = 0                                 # col i\n",
    "        # row i+2\n",
    "        A[i2][i4] -= A[i2][i] / A[i][i] * A[i][i4]   # row i+2, col i+4\n",
    "    # row i+2\n",
    "    A[i2][i2] -= A[i2][i] / A[i][i] * A[i][i2]       # col i+2\n",
    "    A[i2][n] -= A[i2][i] / A[i][i] * A[i][n]         # X\n",
    "    A[i2][i] = 0                                     # col i\n",
    "\n",
    "# BACK-SUBSTITUTION\n",
    "for i in range(n-1,1,-1):\n",
    "    i2, i4 = i-2, i-4\n",
    "    A[i][n] /= A[i][i]\n",
    "    A[i][i] = 1\n",
    "    if i4 > 0:         # skip when i-4 OOB\n",
    "        # row i-4\n",
    "        A[i4][n] -= A[i4][i] * A[i][n]   # X\n",
    "        A[i4][i] = 0                    # col i\n",
    "    # row i-2\n",
    "    A[i2][n] -= A[i2][i] * A[i][n]       # X\n",
    "    A[i2][i] = 0                        # col i\n",
    "for i in range(2):\n",
    "    A[i][n] /= A[i][i]\n",
    "    A[i][i] = 1\n",
    "\n",
    "# ANSWER\n",
    "X = A[:10, n]\n",
    "print(\"First ten entries to 8 d.p.: \\n\", X, \"\\n\")\n",
    "runtime = time.time() - start_time\n",
    "print(\"Runtime needed: \", runtime, \"seconds\")"
   ]
  },
  {
   "cell_type": "code",
   "execution_count": 2,
   "metadata": {},
   "outputs": [],
   "source": [
    "x_star = A[:, n]"
   ]
  },
  {
   "cell_type": "code",
   "execution_count": 3,
   "metadata": {},
   "outputs": [
    {
     "name": "stdout",
     "output_type": "stream",
     "text": [
      "First ten entries to 8 d.p.: \n",
      " [1.53871596, 0.73140344, 0.10796191, 0.17327626, 0.04054807, 0.08524024, 0.16643864, 0.12197056, 0.1012418, 0.09044951] \n",
      "\n",
      "Runtime needed:  2.665501594543457 seconds\n"
     ]
    }
   ],
   "source": [
    "#SOR METHOD\n",
    "import numpy as np\n",
    "import time\n",
    "from math import pi\n",
    "\n",
    "n = 20000\n",
    "w = 1.2\n",
    "TOL = 0.5 * 10**(-6)\n",
    "start_time = time.time()\n",
    "\n",
    "A = np.zeros( (n, n) ) # n x n\n",
    "b = np.zeros( (n, 1) ) # n x 1\n",
    "for i in range(n):\n",
    "    i1 = i+1           # constant\n",
    "    A[i][i] = 2 * i1\n",
    "    if (i + 2) < n:\n",
    "        A[i][i+2] = 0.5 * i1\n",
    "    if (i - 2) >= 0:\n",
    "        A[i][i-2] = 0.5 * i1\n",
    "    if (i + 4) < n:\n",
    "        A[i][i+4] = 0.25 * i1\n",
    "    if (i - 4) >= 0:\n",
    "        A[i][i-4] = 0.25 * i1\n",
    "    b[i] = pi\n",
    "\n",
    "def checker(A,x,b):\n",
    "    result = [0 for i in range(n)]\n",
    "    # matrix_multiplication\n",
    "    for i in range(n):\n",
    "        result[i] += A[i][i] * x[i]\n",
    "        if (i + 2) < n:\n",
    "            result[i] += A[i][i+2] * x[i+2]\n",
    "        if (i + 4) < n:\n",
    "            result[i] += A[i][i+4] * x[i+4]\n",
    "        if (i - 2) >= 0:\n",
    "            result[i] += A[i][i-2] * x[i-2]\n",
    "        if (i - 4) >= 0:\n",
    "            result[i] += A[i][i-4] * x[i-4]\n",
    "        result[i] = abs(result[i] - b[i])\n",
    "    return (max(result[i]) < TOL)    \n",
    "\n",
    "# SOR\n",
    "x = [0 for i in range(n)]       # all initial guesses = 0\n",
    "converged = 0\n",
    "while not converged:\n",
    "    for i in range(n):\n",
    "        temp = b[i][0]\n",
    "        \n",
    "        if (i + 2) < n:\n",
    "            coef_X_ip2 = A[i][i+2]\n",
    "            temp -= coef_X_ip2 * x[i+2]\n",
    "        if (i + 4) < n:\n",
    "            coef_X_ip4 = A[i][i+4]\n",
    "            temp -= coef_X_ip4 * x[i+4]\n",
    "        if (i - 2) >= 0:\n",
    "            coef_X_im2 = A[i][i-2]\n",
    "            temp -= coef_X_im2 * x[i-2]\n",
    "        if (i - 4) >= 0:\n",
    "            coef_X_im4 = A[i][i-4]\n",
    "            temp -= coef_X_im4 * x[i-4]\n",
    "            \n",
    "        coef_X_i = A[i][i]\n",
    "        x[i] = (w * temp) / coef_X_i + ((1-w) * x[i])\n",
    "    # check for convergence\n",
    "    converged = checker(A,x,b)\n",
    "        \n",
    "# ANSWER\n",
    "X = x[:10]\n",
    "r = lambda x: round(x,8)\n",
    "X = list(map(r, X))\n",
    "print(\"First ten entries to 8 d.p.: \\n\", X, \"\\n\")\n",
    "runtime = time.time() - start_time\n",
    "print(\"Runtime needed: \", runtime, \"seconds\")"
   ]
  },
  {
   "cell_type": "code",
   "execution_count": 4,
   "metadata": {},
   "outputs": [],
   "source": [
    "x_bar = x"
   ]
  },
  {
   "cell_type": "code",
   "execution_count": 5,
   "metadata": {},
   "outputs": [
    {
     "name": "stdout",
     "output_type": "stream",
     "text": [
      "[1.54380382 0.73142103 0.10797003 0.17328422 0.04055675 0.08524864\n",
      " 0.16644801 0.1219796  0.10124983 0.09045735]\n",
      "\n",
      "[1.5387159648881423, 0.7314034370116302, 0.10796191169744063, 0.17327625938419572, 0.040548069422756794, 0.08524024222766897, 0.1664386379434689, 0.1219705577164471, 0.10124179764257495, 0.09044950734336392]\n"
     ]
    }
   ],
   "source": [
    "print(x_star[:10])\n",
    "print()\n",
    "print(x_bar[:10])"
   ]
  },
  {
   "cell_type": "code",
   "execution_count": 6,
   "metadata": {},
   "outputs": [
    {
     "name": "stdout",
     "output_type": "stream",
     "text": [
      "0.005087854152331817\n"
     ]
    }
   ],
   "source": [
    "# Compute difference\n",
    "max_diff = 0\n",
    "for i in range(n):\n",
    "    max_diff = max(abs(x_star[i] - x_bar[i]),max_diff)\n",
    "print(max_diff)"
   ]
  },
  {
   "cell_type": "code",
   "execution_count": null,
   "metadata": {},
   "outputs": [],
   "source": [
    "n = 10\n",
    "start_time = time.time()\n",
    "A = np.zeros( (n, n+1) ) # n rows, (n+1) columns\n",
    "\n",
    "for i in range(n):\n",
    "    i1 = i+1          # constant\n",
    "    A[i][n] = 3.14      # all b = pi\n",
    "    A[i][i] = 2 * i1\n",
    "    if (i + 2) < n:\n",
    "        A[i][i+2] = 0.5 * i1\n",
    "    if (i - 2) >= 0:\n",
    "        A[i][i-2] = 0.5 * i1\n",
    "    if (i + 4) < n:\n",
    "        A[i][i+4] = 0.25 * i1\n",
    "    if (i - 4) >= 0:\n",
    "        A[i][i-4] = 0.25 * i1\n",
    "print(A)"
   ]
  },
  {
   "cell_type": "code",
   "execution_count": null,
   "metadata": {},
   "outputs": [],
   "source": [
    "n = 5\n",
    "b = np.zeros( (n, 1) )\n",
    "for i in range(n):\n",
    "    b[i] = pi\n",
    "    \n",
    "print(b[1])"
   ]
  },
  {
   "cell_type": "code",
   "execution_count": null,
   "metadata": {},
   "outputs": [],
   "source": [
    "q = [1.53873413339516, 0.731420940055342, 0.10796998634035646, 0.17328417134417162, 0.040556701783493104, 0.0852485911519701, 0.16644795774380722, 0.12197954918531065, 0.10124978408035137, 0.0904573035667487]\n",
    "r = lambda x: round(x,2)\n",
    "q = list(map(r, q))\n",
    "print(q)"
   ]
  },
  {
   "cell_type": "code",
   "execution_count": null,
   "metadata": {},
   "outputs": [],
   "source": [
    "# [1.53588974 \n",
    "# 0.73303829 \n",
    "# 0.13962634 \n",
    "# 0.20943951 \n",
    "# 0.08726646]"
   ]
  }
 ],
 "metadata": {
  "kernelspec": {
   "display_name": "Python 3",
   "language": "python",
   "name": "python3"
  },
  "language_info": {
   "codemirror_mode": {
    "name": "ipython",
    "version": 3
   },
   "file_extension": ".py",
   "mimetype": "text/x-python",
   "name": "python",
   "nbconvert_exporter": "python",
   "pygments_lexer": "ipython3",
   "version": "3.7.1"
  }
 },
 "nbformat": 4,
 "nbformat_minor": 2
}
